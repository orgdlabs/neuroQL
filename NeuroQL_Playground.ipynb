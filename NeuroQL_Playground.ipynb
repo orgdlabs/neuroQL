{
 "cells": [
  {
   "attachments": {},
   "cell_type": "markdown",
   "metadata": {},
   "source": [
    "# NeuroQL Playground"
   ]
  },
  {
   "cell_type": "code",
   "execution_count": 1,
   "metadata": {},
   "outputs": [
    {
     "name": "stdout",
     "output_type": "stream",
     "text": [
      "Cloning into 'nql_lib'...\n",
      "remote: Enumerating objects: 10, done.\u001b[K\n",
      "remote: Counting objects: 100% (10/10), done.\u001b[K\n",
      "remote: Compressing objects: 100% (8/8), done.\u001b[K\n",
      "remote: Total 10 (delta 1), reused 0 (delta 0), pack-reused 0\u001b[K\n",
      "Receiving objects: 100% (10/10), 17.41 KiB | 1.45 MiB/s, done.\n",
      "Resolving deltas: 100% (1/1), done.\n"
     ]
    },
    {
     "name": "stderr",
     "output_type": "stream",
     "text": [
      "[nltk_data] Downloading package punkt to\n",
      "[nltk_data]     /Users/npapoylias/nltk_data...\n",
      "[nltk_data]   Package punkt is already up-to-date!\n",
      "The tokenizer class you load from this checkpoint is not the same type as the class this function is called from. It may result in unexpected tokenization. \n",
      "The tokenizer class you load from this checkpoint is 'DPRQuestionEncoderTokenizer'. \n",
      "The class this function is called from is 'DPRContextEncoderTokenizerFast'.\n",
      "WARNING:haystack.modeling.model.prediction_head:Some unused parameters are passed to the QuestionAnsweringHead. Might not be a problem. Params: {\"training\": false, \"num_labels\": 2, \"ph_output_type\": \"per_token_squad\", \"model_type\": \"span_classification\", \"label_tensor_name\": \"question_answering_label_ids\", \"label_list\": [\"start_token\", \"end_token\"], \"metric\": \"squad\", \"name\": \"QuestionAnsweringHead\"}\n"
     ]
    }
   ],
   "source": [
    "! git clone https://github.com/orgdlabs/nql_lib.git; mv nql_lib/* .; rm -rf nql_lib\n",
    "\n",
    "from NeuroQL import *\n",
    "\n",
    "NeuroQL.load('asin_key_properties.csv','asin_reviews.csv')"
   ]
  },
  {
   "cell_type": "code",
   "execution_count": 2,
   "metadata": {},
   "outputs": [
    {
     "data": {
      "text/plain": [
       "(True,\n",
       " [{'?property': 'title', '?value': 'koss portapro headphones with case'},\n",
       "  {'?property': 'brand', '?value': 'koss'},\n",
       "  {'?property': 'review', '?value': 'ce76793f036494eabe07b33a9a67288a'},\n",
       "  {'?property': 'review', '?value': '882b1e2745a4779c8f17b3d4406b91c7'},\n",
       "  {'?property': 'item_model_number', '?value': 6303157},\n",
       "  {'?property': 'item_weight', '?value': 2.79},\n",
       "  {'?property': 'stars', '?value': 4.7},\n",
       "  {'?property': 'price', '?value': 39.36},\n",
       "  {'?property': 'review', '?value': 'd040f2713caa2aff0ce95affb40e12c2'},\n",
       "  {'?property': 'is_discontinued_by_manufacturer', '?value': 'no'},\n",
       "  {'?property': 'item_weight_units', '?value': 'ounces'},\n",
       "  {'?property': 'total_reviews', '?value': 14549}])"
      ]
     },
     "execution_count": 2,
     "metadata": {},
     "output_type": "execute_result"
    }
   ],
   "source": [
    "B00001P4ZH = ids()\n",
    "_property, _value = vars()\n",
    "search(B00001P4ZH._property == _value)"
   ]
  },
  {
   "cell_type": "code",
   "execution_count": 3,
   "metadata": {},
   "outputs": [
    {
     "name": "stderr",
     "output_type": "stream",
     "text": [
      "Updating BM25 representation...: 100%|██████████| 500/500 [00:00<00:00, 100021.56 docs/s]\n",
      "WARNING:haystack.document_stores.memory:InMemoryDocumentStore does not support scale_score for BM25 retrieval. This parameter is ignored.\n"
     ]
    },
    {
     "data": {
      "text/plain": [
       "(True,\n",
       " [{'?asin': 'B00001P4ZH',\n",
       "   '?title': 'koss portapro headphones with case',\n",
       "   '?price': 39.36},\n",
       "  {'?asin': 'B0015AE4CE',\n",
       "   '?title': 'sony mdr-ed12lp budstyle headphones (blue)',\n",
       "   '?price': 39.59},\n",
       "  {'?asin': 'B004S7Q8CA',\n",
       "   '?title': 'jvc hafx1x headphone xtreme-xplosivs',\n",
       "   '?price': 26.79},\n",
       "  {'?asin': 'B002RWJD7A',\n",
       "   '?title': 'jbuds j3 micro atomic in-ear earbuds style headphones with travel case (jet black) (discontinued by manufacturer)',\n",
       "   '?price': 31.12},\n",
       "  {'?asin': 'B005HJWWW8',\n",
       "   '?title': 'fiio e6 fujiyama portable headphone amplifier - black',\n",
       "   '?price': 27.99},\n",
       "  {'?asin': 'B000AJIF4E',\n",
       "   '?title': 'sony mdr7506 professional large diaphragm headphone',\n",
       "   '?price': 29.99},\n",
       "  {'?asin': 'B0007XJSQC',\n",
       "   '?title': 'sennheiser hd201 lightweight over-ear binaural headphones',\n",
       "   '?price': 24.95},\n",
       "  {'?asin': 'B001P9EQH8',\n",
       "   '?title': 'fiio e5 headphone amplifier',\n",
       "   '?price': 27.99},\n",
       "  {'?asin': 'B000092YQW',\n",
       "   '?title': 'sony mdr-ex71sl fontopia in-the-ear headphones (black)',\n",
       "   '?price': 32.5},\n",
       "  {'?asin': 'B003LPTAYI',\n",
       "   '?title': 'sennheiser hd 202 ii professional headphones (black)',\n",
       "   '?price': 24.94}])"
      ]
     },
     "execution_count": 3,
     "metadata": {},
     "output_type": "execute_result"
    }
   ],
   "source": [
    "_asin, _total_reviews, _price, _title, _review, _review_text, _answers = vars()\n",
    "search(\n",
    "    bm25_match(_asin.title==_title,'headphones',80),\n",
    "    _asin.price==_price, \n",
    "    op_filter(lambda e: abs(e['?price'] - 30) < 10),\n",
    ")"
   ]
  },
  {
   "cell_type": "code",
   "execution_count": 4,
   "metadata": {},
   "outputs": [
    {
     "name": "stderr",
     "output_type": "stream",
     "text": [
      "Updating BM25 representation...: 100%|██████████| 500/500 [00:00<00:00, 213038.60 docs/s]\n",
      "WARNING:haystack.document_stores.memory:InMemoryDocumentStore does not support scale_score for BM25 retrieval. This parameter is ignored.\n"
     ]
    },
    {
     "data": {
      "text/plain": [
       "(True,\n",
       " [{'?asin': 'B00001P4ZH',\n",
       "   '?title': 'koss portapro headphones with case',\n",
       "   '?price': 39.36,\n",
       "   '?total_reviews': 14549},\n",
       "  {'?asin': 'B000AJIF4E',\n",
       "   '?title': 'sony mdr7506 professional large diaphragm headphone',\n",
       "   '?price': 29.99,\n",
       "   '?total_reviews': 22071},\n",
       "  {'?asin': 'B0007XJSQC',\n",
       "   '?title': 'sennheiser hd201 lightweight over-ear binaural headphones',\n",
       "   '?price': 24.95,\n",
       "   '?total_reviews': 14980}])"
      ]
     },
     "execution_count": 4,
     "metadata": {},
     "output_type": "execute_result"
    }
   ],
   "source": [
    "search(\n",
    "    bm25_match(_asin.title==_title,'headphones',80),\n",
    "    _asin.price==_price, \n",
    "    op_filter(lambda e: abs(e['?price'] - 30) < 10),\n",
    "    _asin.total_reviews==_total_reviews,  \n",
    "    op_filter(lambda e: e['?total_reviews'] >= 14000),\n",
    "    _asin.is_discontinued_by_manufacturer=='no',\n",
    ")"
   ]
  },
  {
   "cell_type": "code",
   "execution_count": 5,
   "metadata": {},
   "outputs": [
    {
     "name": "stderr",
     "output_type": "stream",
     "text": [
      "Updating BM25 representation...: 100%|██████████| 500/500 [00:00<00:00, 188949.64 docs/s]\n",
      "WARNING:haystack.document_stores.memory:InMemoryDocumentStore does not support scale_score for BM25 retrieval. This parameter is ignored.\n",
      "Documents Processed: 10000 docs [00:01, 7171.46 docs/s]      \n"
     ]
    },
    {
     "data": {
      "text/plain": [
       "[{'?asin': 'B00001P4ZH',\n",
       "  '?title': 'koss portapro headphones with case',\n",
       "  '?price': 39.36,\n",
       "  '?total_reviews': 14549,\n",
       "  '?review': 'ce76793f036494eabe07b33a9a67288a',\n",
       "  '?review_text': 'To anyone who hasn\\'t tried all the various types of headphones, it is important to remember exactly what these are: cheap portable on-ear headphones. They give a totally different sound then in-ears or closed design phones, but for what they are I would say they\\'re good. I currently own six pairs of phones, from stock apple earbuds to Sennheiser HD 518s. Gave my Portapros a run on both my computer\\'s sound card and mp3 player, using 256 kbps mp3s or better. The clarity is good and they\\'re very lightweight. The folding design is simple but effective. The look is certainly retro and unique, although I didn\\'t find it as comfortable as many have claimed. Earpads are *very* thin and made my ears sore after 30 minutes of listening, although this can be remedied to a point by adjusting the \"comfort zone\" feature (tightening the temple pads while loosening the ear pads). The cord seems to be an average thickness, but I wouldn\\'t get too rough with these. The steel headband adjusts smoothly and easily, just watch out that the slider doesn\\'t catch your hair. Despite the sore ears, the phones are very lightweight overall.Back to the sound: as you would expect, it\\'s good for a portable phone, but hardly earth shattering. At flat EQ the clarity is good, although the highs can sometimes be harsh. Bass is weak as expected, even with EQ adjusted up. To be fair, a portable on-ear would have a tough time comparing to the bass of an in-ear with a good seal or a pair with larger drivers. No sound isolation offered if you\\'re into that sort of thing. Cool 80s phones, though I\\'ve certainly owned better portable on-ears (Sony makes excellent phones in this category). Soundstage is very narrow and lacks body. A good value if you can get them for under thirty, otherwise I\\'d rather invest in a nicer pair of phones. If we\\'re talking about value, they\\'re a good buy compared to new stock apple buds. If you\\'re trying to compare the sound quality of this product to serious headphones, there\\'s really no comparison at all.Update: After 100 hours of burn-in time the sound has not been affected in any appreciable way. Highs are still harsh, and bass is still underwhelming. I sometimes use these as a convenience but they have been largely replaced in my collection.',\n",
       "  '?answers': [{'answer': 'Bass is weak as expected',\n",
       "    'context': 'he clarity is good, although the highs can sometimes be harsh. Bass is weak as expected, even with EQ adjusted up. To be fair, a portable on-ear would',\n",
       "    'offset': [Span(start=1302, end=1326)],\n",
       "    'score': 0.6853079795837402,\n",
       "    'id': 'ce76793f036494eabe07b33a9a67288a'}]},\n",
       " {'?asin': 'B000AJIF4E',\n",
       "  '?title': 'sony mdr7506 professional large diaphragm headphone',\n",
       "  '?price': 29.99,\n",
       "  '?total_reviews': 22071,\n",
       "  '?review': '5e96b0052898fe667cf622888fc5af69',\n",
       "  '?review_text': \"These are without doubt the best headphones I've ever owned.  The sound quality is incredible- rich and full without over-emphasizing any part of the sound spectrum.  Bass is amazing and brain scrambling.  Mid range is clear and precise and not at all obscured by the lower and upper registers.  Highs are crisp and clear.When I put them on for the first time, the fit was comfortable.  They are very good at blocking outside sounds.  The first music I found on my IPod that I wanted to hear was Dvorak's 9th Symphony.  Wonderful.  Instruments were distinct and clear.  Horns sounded rich and full.  A little Springsteen and the Beatles' Sgt. Pepper confirmed that these phones will handle a broad range of musical styles.  Sgt. Pepper was the album that made an audiophile of me back in the 60's when it was released.  At that time, I had a cheap portable stereo with a tilt out turntable and fold out speakers.  I wore out Sgt Pepper on that thing, and then, a friend happened to have it playing on his parents' high end Marantz receiver and impressive speakers when I stopped by one day.  I heard things from that music on his system that I had never heard on my cheap stereo, and I was hooked.  These phones at less than  a hundred dollars give me everything I heard on that high end system all those years ago.  I've seen headphones listing for a hell of a lot more, and I can't imagine that they can sound that much better than these Sony's to justify spending several times more for them.  I consider these to be an incredible bargain worth every penny.\",\n",
       "  '?answers': [{'answer': 'Bass is amazing',\n",
       "    'context': ' and full without over-emphasizing any part of the sound spectrum.  Bass is amazing and brain scrambling.  Mid range is clear and precise and not at a',\n",
       "    'offset': [Span(start=167, end=182)],\n",
       "    'score': 0.6847599148750305,\n",
       "    'id': '5e96b0052898fe667cf622888fc5af69'}]}]"
      ]
     },
     "execution_count": 5,
     "metadata": {},
     "output_type": "execute_result"
    }
   ],
   "source": [
    "_asin, _total_reviews, _price, _title, _review, _review_text, _answers = vars()\n",
    "\n",
    "success, results = search(\n",
    "    bm25_match(_asin.title==_title,'headphones',80),\n",
    "    _asin.price==_price, \n",
    "    op_filter(lambda e: abs(e['?price'] - 30) < 10),\n",
    "    _asin.total_reviews==_total_reviews,  \n",
    "    op_filter(lambda e: e['?total_reviews'] >= 14000),\n",
    "    _asin.is_discontinued_by_manufacturer=='no',\n",
    "    _asin.review==_review, \n",
    "    neural_match(\n",
    "      _review.text==_review_text,'how is the bass?',5\n",
    "    ),\n",
    "    neural_extract(\n",
    "      _answers, _review.text==_review_text,'how is the bass?',2\n",
    "    )\n",
    ")\n",
    "\n",
    "results"
   ]
  },
  {
   "cell_type": "code",
   "execution_count": 6,
   "metadata": {},
   "outputs": [
    {
     "name": "stdout",
     "output_type": "stream",
     "text": [
      "search(\n",
      "\tbm25_match(_asin.title==_title,'headphones',80),\n",
      "\t_asin.price == _price, op_filter(lambda e: abs(e['?price'] - 30) < 10),\n",
      "\t_asin.total_reviews == _total_reviews, op_filter(lambda e: e['?total_reviews'] >= 14000),\n",
      "\t_asin.is_discontinued_by_manufacturer == 'no',\n",
      "        _asin.review == _review, \n",
      "        neural_match(_review.text == _review_text,\"how is the bass?\",5),\n",
      "        neural_extract(_answers, _review.text == _review_text,\"how is the bass?\",2)\n",
      ")\n",
      "\n"
     ]
    }
   ],
   "source": [
    "query = NeuroQL.translate('How is the bass for headphones at around 30 dollars having minimum 14K reviews that is not discontinued?')\n",
    "print(query)"
   ]
  },
  {
   "cell_type": "code",
   "execution_count": 7,
   "metadata": {},
   "outputs": [
    {
     "name": "stderr",
     "output_type": "stream",
     "text": [
      "Updating BM25 representation...: 100%|██████████| 500/500 [00:00<00:00, 211705.23 docs/s]\n",
      "WARNING:haystack.document_stores.memory:InMemoryDocumentStore does not support scale_score for BM25 retrieval. This parameter is ignored.\n",
      "Documents Processed: 10000 docs [00:01, 6610.28 docs/s]      \n",
      "WARNING:haystack.modeling.model.prediction_head:Some unused parameters are passed to the QuestionAnsweringHead. Might not be a problem. Params: {\"training\": false, \"num_labels\": 2, \"ph_output_type\": \"per_token_squad\", \"model_type\": \"span_classification\", \"label_tensor_name\": \"question_answering_label_ids\", \"label_list\": [\"start_token\", \"end_token\"], \"metric\": \"squad\", \"name\": \"QuestionAnsweringHead\"}\n"
     ]
    },
    {
     "data": {
      "text/plain": [
       "(True,\n",
       " [{'?asin': 'B00001P4ZH',\n",
       "   '?title': 'koss portapro headphones with case',\n",
       "   '?price': 39.36,\n",
       "   '?total_reviews': 14549,\n",
       "   '?review': 'ce76793f036494eabe07b33a9a67288a',\n",
       "   '?review_text': 'To anyone who hasn\\'t tried all the various types of headphones, it is important to remember exactly what these are: cheap portable on-ear headphones. They give a totally different sound then in-ears or closed design phones, but for what they are I would say they\\'re good. I currently own six pairs of phones, from stock apple earbuds to Sennheiser HD 518s. Gave my Portapros a run on both my computer\\'s sound card and mp3 player, using 256 kbps mp3s or better. The clarity is good and they\\'re very lightweight. The folding design is simple but effective. The look is certainly retro and unique, although I didn\\'t find it as comfortable as many have claimed. Earpads are *very* thin and made my ears sore after 30 minutes of listening, although this can be remedied to a point by adjusting the \"comfort zone\" feature (tightening the temple pads while loosening the ear pads). The cord seems to be an average thickness, but I wouldn\\'t get too rough with these. The steel headband adjusts smoothly and easily, just watch out that the slider doesn\\'t catch your hair. Despite the sore ears, the phones are very lightweight overall.Back to the sound: as you would expect, it\\'s good for a portable phone, but hardly earth shattering. At flat EQ the clarity is good, although the highs can sometimes be harsh. Bass is weak as expected, even with EQ adjusted up. To be fair, a portable on-ear would have a tough time comparing to the bass of an in-ear with a good seal or a pair with larger drivers. No sound isolation offered if you\\'re into that sort of thing. Cool 80s phones, though I\\'ve certainly owned better portable on-ears (Sony makes excellent phones in this category). Soundstage is very narrow and lacks body. A good value if you can get them for under thirty, otherwise I\\'d rather invest in a nicer pair of phones. If we\\'re talking about value, they\\'re a good buy compared to new stock apple buds. If you\\'re trying to compare the sound quality of this product to serious headphones, there\\'s really no comparison at all.Update: After 100 hours of burn-in time the sound has not been affected in any appreciable way. Highs are still harsh, and bass is still underwhelming. I sometimes use these as a convenience but they have been largely replaced in my collection.',\n",
       "   '?answers': [{'answer': 'Bass is weak as expected',\n",
       "     'context': 'he clarity is good, although the highs can sometimes be harsh. Bass is weak as expected, even with EQ adjusted up. To be fair, a portable on-ear would',\n",
       "     'offset': [Span(start=1302, end=1326)],\n",
       "     'score': 0.6853079795837402,\n",
       "     'id': 'ce76793f036494eabe07b33a9a67288a'}]},\n",
       "  {'?asin': 'B000AJIF4E',\n",
       "   '?title': 'sony mdr7506 professional large diaphragm headphone',\n",
       "   '?price': 29.99,\n",
       "   '?total_reviews': 22071,\n",
       "   '?review': '5e96b0052898fe667cf622888fc5af69',\n",
       "   '?review_text': \"These are without doubt the best headphones I've ever owned.  The sound quality is incredible- rich and full without over-emphasizing any part of the sound spectrum.  Bass is amazing and brain scrambling.  Mid range is clear and precise and not at all obscured by the lower and upper registers.  Highs are crisp and clear.When I put them on for the first time, the fit was comfortable.  They are very good at blocking outside sounds.  The first music I found on my IPod that I wanted to hear was Dvorak's 9th Symphony.  Wonderful.  Instruments were distinct and clear.  Horns sounded rich and full.  A little Springsteen and the Beatles' Sgt. Pepper confirmed that these phones will handle a broad range of musical styles.  Sgt. Pepper was the album that made an audiophile of me back in the 60's when it was released.  At that time, I had a cheap portable stereo with a tilt out turntable and fold out speakers.  I wore out Sgt Pepper on that thing, and then, a friend happened to have it playing on his parents' high end Marantz receiver and impressive speakers when I stopped by one day.  I heard things from that music on his system that I had never heard on my cheap stereo, and I was hooked.  These phones at less than  a hundred dollars give me everything I heard on that high end system all those years ago.  I've seen headphones listing for a hell of a lot more, and I can't imagine that they can sound that much better than these Sony's to justify spending several times more for them.  I consider these to be an incredible bargain worth every penny.\",\n",
       "   '?answers': [{'answer': 'Bass is amazing',\n",
       "     'context': ' and full without over-emphasizing any part of the sound spectrum.  Bass is amazing and brain scrambling.  Mid range is clear and precise and not at a',\n",
       "     'offset': [Span(start=167, end=182)],\n",
       "     'score': 0.6847599148750305,\n",
       "     'id': '5e96b0052898fe667cf622888fc5af69'}]}])"
      ]
     },
     "execution_count": 7,
     "metadata": {},
     "output_type": "execute_result"
    }
   ],
   "source": [
    "NeuroQL.eval(query)"
   ]
  },
  {
   "cell_type": "code",
   "execution_count": 8,
   "metadata": {},
   "outputs": [
    {
     "name": "stderr",
     "output_type": "stream",
     "text": [
      "Updating BM25 representation...: 100%|██████████| 500/500 [00:00<00:00, 221615.98 docs/s]\n",
      "WARNING:haystack.document_stores.memory:InMemoryDocumentStore does not support scale_score for BM25 retrieval. This parameter is ignored.\n",
      "Documents Processed: 10000 docs [00:01, 6717.17 docs/s]      \n",
      "WARNING:haystack.modeling.model.prediction_head:Some unused parameters are passed to the QuestionAnsweringHead. Might not be a problem. Params: {\"training\": false, \"num_labels\": 2, \"ph_output_type\": \"per_token_squad\", \"model_type\": \"span_classification\", \"label_tensor_name\": \"question_answering_label_ids\", \"label_list\": [\"start_token\", \"end_token\"], \"metric\": \"squad\", \"name\": \"QuestionAnsweringHead\"}\n"
     ]
    },
    {
     "data": {
      "text/plain": [
       "(True,\n",
       " [{'?asin': 'B00001P4ZH',\n",
       "   '?title': 'koss portapro headphones with case',\n",
       "   '?price': 39.36,\n",
       "   '?total_reviews': 14549,\n",
       "   '?review': 'ce76793f036494eabe07b33a9a67288a',\n",
       "   '?review_text': 'To anyone who hasn\\'t tried all the various types of headphones, it is important to remember exactly what these are: cheap portable on-ear headphones. They give a totally different sound then in-ears or closed design phones, but for what they are I would say they\\'re good. I currently own six pairs of phones, from stock apple earbuds to Sennheiser HD 518s. Gave my Portapros a run on both my computer\\'s sound card and mp3 player, using 256 kbps mp3s or better. The clarity is good and they\\'re very lightweight. The folding design is simple but effective. The look is certainly retro and unique, although I didn\\'t find it as comfortable as many have claimed. Earpads are *very* thin and made my ears sore after 30 minutes of listening, although this can be remedied to a point by adjusting the \"comfort zone\" feature (tightening the temple pads while loosening the ear pads). The cord seems to be an average thickness, but I wouldn\\'t get too rough with these. The steel headband adjusts smoothly and easily, just watch out that the slider doesn\\'t catch your hair. Despite the sore ears, the phones are very lightweight overall.Back to the sound: as you would expect, it\\'s good for a portable phone, but hardly earth shattering. At flat EQ the clarity is good, although the highs can sometimes be harsh. Bass is weak as expected, even with EQ adjusted up. To be fair, a portable on-ear would have a tough time comparing to the bass of an in-ear with a good seal or a pair with larger drivers. No sound isolation offered if you\\'re into that sort of thing. Cool 80s phones, though I\\'ve certainly owned better portable on-ears (Sony makes excellent phones in this category). Soundstage is very narrow and lacks body. A good value if you can get them for under thirty, otherwise I\\'d rather invest in a nicer pair of phones. If we\\'re talking about value, they\\'re a good buy compared to new stock apple buds. If you\\'re trying to compare the sound quality of this product to serious headphones, there\\'s really no comparison at all.Update: After 100 hours of burn-in time the sound has not been affected in any appreciable way. Highs are still harsh, and bass is still underwhelming. I sometimes use these as a convenience but they have been largely replaced in my collection.',\n",
       "   '?answers': [{'answer': 'Bass is weak as expected',\n",
       "     'context': 'he clarity is good, although the highs can sometimes be harsh. Bass is weak as expected, even with EQ adjusted up. To be fair, a portable on-ear would',\n",
       "     'offset': [Span(start=1302, end=1326)],\n",
       "     'score': 0.6853079795837402,\n",
       "     'id': 'ce76793f036494eabe07b33a9a67288a'}]},\n",
       "  {'?asin': 'B000AJIF4E',\n",
       "   '?title': 'sony mdr7506 professional large diaphragm headphone',\n",
       "   '?price': 29.99,\n",
       "   '?total_reviews': 22071,\n",
       "   '?review': '5e96b0052898fe667cf622888fc5af69',\n",
       "   '?review_text': \"These are without doubt the best headphones I've ever owned.  The sound quality is incredible- rich and full without over-emphasizing any part of the sound spectrum.  Bass is amazing and brain scrambling.  Mid range is clear and precise and not at all obscured by the lower and upper registers.  Highs are crisp and clear.When I put them on for the first time, the fit was comfortable.  They are very good at blocking outside sounds.  The first music I found on my IPod that I wanted to hear was Dvorak's 9th Symphony.  Wonderful.  Instruments were distinct and clear.  Horns sounded rich and full.  A little Springsteen and the Beatles' Sgt. Pepper confirmed that these phones will handle a broad range of musical styles.  Sgt. Pepper was the album that made an audiophile of me back in the 60's when it was released.  At that time, I had a cheap portable stereo with a tilt out turntable and fold out speakers.  I wore out Sgt Pepper on that thing, and then, a friend happened to have it playing on his parents' high end Marantz receiver and impressive speakers when I stopped by one day.  I heard things from that music on his system that I had never heard on my cheap stereo, and I was hooked.  These phones at less than  a hundred dollars give me everything I heard on that high end system all those years ago.  I've seen headphones listing for a hell of a lot more, and I can't imagine that they can sound that much better than these Sony's to justify spending several times more for them.  I consider these to be an incredible bargain worth every penny.\",\n",
       "   '?answers': [{'answer': 'Bass is amazing',\n",
       "     'context': ' and full without over-emphasizing any part of the sound spectrum.  Bass is amazing and brain scrambling.  Mid range is clear and precise and not at a',\n",
       "     'offset': [Span(start=167, end=182)],\n",
       "     'score': 0.6847599148750305,\n",
       "     'id': '5e96b0052898fe667cf622888fc5af69'}]}])"
      ]
     },
     "execution_count": 8,
     "metadata": {},
     "output_type": "execute_result"
    }
   ],
   "source": [
    "NeuroQL.answer('How is the bass for headphones at around 30 dollars having minimum 14K reviews that is not discontinued?')"
   ]
  },
  {
   "cell_type": "code",
   "execution_count": null,
   "metadata": {},
   "outputs": [],
   "source": []
  }
 ],
 "metadata": {
  "kernelspec": {
   "display_name": "Python 3",
   "language": "python",
   "name": "python3"
  },
  "language_info": {
   "codemirror_mode": {
    "name": "ipython",
    "version": 3
   },
   "file_extension": ".py",
   "mimetype": "text/x-python",
   "name": "python",
   "nbconvert_exporter": "python",
   "pygments_lexer": "ipython3",
   "version": "3.10.8"
  },
  "orig_nbformat": 4,
  "vscode": {
   "interpreter": {
    "hash": "aee8b7b246df8f9039afb4144a1f6fd8d2ca17a180786b69acc140d282b71a49"
   }
  }
 },
 "nbformat": 4,
 "nbformat_minor": 2
}
