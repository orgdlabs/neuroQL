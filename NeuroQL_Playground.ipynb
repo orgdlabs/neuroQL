{
 "cells": [
  {
   "attachments": {},
   "cell_type": "markdown",
   "metadata": {},
   "source": [
    "# NeuroQL Playground"
   ]
  },
  {
   "cell_type": "code",
   "execution_count": null,
   "metadata": {},
   "outputs": [],
   "source": [
    "#if you are running in colab, or you only have access to this notebook:\n",
    "! git clone https://github.com/orgdlabs/neuroQL.git; mv neuroQL/* .; rm -rf neuroQL"
   ]
  },
  {
   "cell_type": "code",
   "execution_count": null,
   "metadata": {},
   "outputs": [],
   "source": [
    "! git clone https://github.com/orgdlabs/nql_lib.git; mv nql_lib/* .; rm -rf nql_lib\n",
    "! pip install farm-haystack==1.12.2\n",
    "\n",
    "from NeuroQL import *\n",
    "\n",
    "NeuroQL.load('asin_key_properties.csv','asin_reviews.csv')"
   ]
  },
  {
   "cell_type": "code",
   "execution_count": null,
   "metadata": {},
   "outputs": [],
   "source": [
    "B00001P4ZH = ids()\n",
    "_property, _value = vars()\n",
    "search(B00001P4ZH._property == _value)"
   ]
  },
  {
   "cell_type": "code",
   "execution_count": null,
   "metadata": {},
   "outputs": [],
   "source": [
    "_asin, _total_reviews, _price, _title, _review, _review_text, _answers = vars()\n",
    "search(\n",
    "    bm25_match(_asin.title==_title,'headphones',80),\n",
    "    _asin.price==_price, \n",
    "    op_filter(lambda e: abs(e['?price'] - 30) < 10),\n",
    ")"
   ]
  },
  {
   "cell_type": "code",
   "execution_count": null,
   "metadata": {},
   "outputs": [],
   "source": [
    "search(\n",
    "    bm25_match(_asin.title==_title,'headphones',80),\n",
    "    _asin.price==_price, \n",
    "    op_filter(lambda e: abs(e['?price'] - 30) < 10),\n",
    "    _asin.total_reviews==_total_reviews,  \n",
    "    op_filter(lambda e: e['?total_reviews'] >= 14000),\n",
    "    _asin.is_discontinued_by_manufacturer=='no',\n",
    ")"
   ]
  },
  {
   "cell_type": "code",
   "execution_count": null,
   "metadata": {},
   "outputs": [],
   "source": [
    "_asin, _total_reviews, _price, _title, _review, _review_text, _answers = vars()\n",
    "\n",
    "success, results = search(\n",
    "    bm25_match(_asin.title==_title,'headphones',80),\n",
    "    _asin.price==_price, \n",
    "    op_filter(lambda e: abs(e['?price'] - 30) < 10),\n",
    "    _asin.total_reviews==_total_reviews,  \n",
    "    op_filter(lambda e: e['?total_reviews'] >= 14000),\n",
    "    _asin.is_discontinued_by_manufacturer=='no',\n",
    "    _asin.review==_review, \n",
    "    neural_match(\n",
    "      _review.text==_review_text,'how is the bass?',5\n",
    "    ),\n",
    "    neural_extract(\n",
    "      _answers, _review.text==_review_text,'how is the bass?',2\n",
    "    )\n",
    ")\n",
    "\n",
    "results"
   ]
  },
  {
   "cell_type": "code",
   "execution_count": null,
   "metadata": {},
   "outputs": [],
   "source": [
    "query = NeuroQL.translate('How is the bass for headphones at around 30 dollars having minimum 14K reviews that is not discontinued?')\n",
    "print(query)"
   ]
  },
  {
   "cell_type": "code",
   "execution_count": null,
   "metadata": {},
   "outputs": [],
   "source": [
    "NeuroQL.eval(query)"
   ]
  },
  {
   "cell_type": "code",
   "execution_count": null,
   "metadata": {},
   "outputs": [],
   "source": [
    "NeuroQL.answer('How is the bass for headphones at around 30 dollars having minimum 14K reviews that is not discontinued?')"
   ]
  },
  {
   "cell_type": "code",
   "execution_count": null,
   "metadata": {},
   "outputs": [],
   "source": []
  }
 ],
 "metadata": {
  "kernelspec": {
   "display_name": "Python 3",
   "language": "python",
   "name": "python3"
  },
  "language_info": {
   "codemirror_mode": {
    "name": "ipython",
    "version": 3
   },
   "file_extension": ".py",
   "mimetype": "text/x-python",
   "name": "python",
   "nbconvert_exporter": "python",
   "pygments_lexer": "ipython3",
   "version": "3.10.8"
  },
  "orig_nbformat": 4,
  "vscode": {
   "interpreter": {
    "hash": "aee8b7b246df8f9039afb4144a1f6fd8d2ca17a180786b69acc140d282b71a49"
   }
  }
 },
 "nbformat": 4,
 "nbformat_minor": 2
}
